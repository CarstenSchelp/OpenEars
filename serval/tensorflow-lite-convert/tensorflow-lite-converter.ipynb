{
 "cells": [
  {
   "cell_type": "markdown",
   "metadata": {
    "scrolled": true
   },
   "source": [
    "Tensorflow lite converter\n",
    "\n",
    "Deze Python Notebook neemt het vggish model voor de classificatie van audio fragmenten en converteert het naar een Tensorflow lite bestand dat kan worden gedraaid op een Tensorflow lite compatible device\n",
    "\n",
    "Download het vggish model (als checkpoint file) van:\n",
    "* https://storage.googleapis.com/audioset/vggish_model.ckpt\n",
    "\n",
    "Download de vggish library en plaats deze in deze folder:\n",
    "* https://github.com/tensorflow/models/tree/master/research/audioset\n",
    "\n",
    "Uitvoer:\n",
    "* converted_model.tflite (tflite model)\n",
    "* converted_model_quantized.tflite (Quantized tflite model)"
   ]
  },
  {
   "cell_type": "code",
   "execution_count": null,
   "metadata": {},
   "outputs": [],
   "source": [
    "# Download de vggish python files vanaf https://github.com/tensorflow/models/tree/master/research/audioset\n",
    "# en plaats deze in de huidige directory\n",
    "import vggish_params\n",
    "import vggish_slim\n",
    "import tensorflow as tf\n",
    "\n",
    "# Te downloaden van https://storage.googleapis.com/audioset/vggish_model.ckpt\n",
    "CHECKPOINT_FILE = './vggish_model.ckpt'\n",
    "\n",
    "# Definieer tensorflow sessie\n",
    "with tf.Graph().as_default(), tf.Session() as sess:\n",
    "    # Definieer het VVGish model\n",
    "    vggish_slim.define_vggish_slim(training=False)\n",
    "    # Laad de checpoint\n",
    "    vggish_slim.load_vggish_slim_checkpoint(sess, CHECKPOINT_FILE)\n",
    "    \n",
    "    # Identificeer input/output tensors\n",
    "    features_tensor = sess.graph.get_tensor_by_name(\n",
    "            vggish_params.INPUT_TENSOR_NAME)\n",
    "    embedding_tensor = sess.graph.get_tensor_by_name(\n",
    "            vggish_params.OUTPUT_TENSOR_NAME)\n",
    "    \n",
    "    # Initialiseer tflite converter\n",
    "    converter = tf.lite.TFLiteConverter.from_session(sess, [features_tensor], [embedding_tensor])\n",
    "    \n",
    "    # Converteer model as-is naar tflite formaat\n",
    "    converter.post_training_quantize=False\n",
    "    open(\"converted_model.tflite\", \"wb\").write(converter.convert())\n",
    "    \n",
    "    # Quantizeer model (verkleint groote met factor 4, verlaagt mogelijk de kwaliteit)\n",
    "    converter.post_training_quantize=True\n",
    "    open(\"converted_model_quantized.tflite\", \"wb\").write(converter.convert())"
   ]
  }
 ],
 "metadata": {
  "kernelspec": {
   "display_name": "Python 3",
   "language": "python",
   "name": "python3"
  },
  "language_info": {
   "codemirror_mode": {
    "name": "ipython",
    "version": 3
   },
   "file_extension": ".py",
   "mimetype": "text/x-python",
   "name": "python",
   "nbconvert_exporter": "python",
   "pygments_lexer": "ipython3",
   "version": "3.7.3"
  }
 },
 "nbformat": 4,
 "nbformat_minor": 2
}
